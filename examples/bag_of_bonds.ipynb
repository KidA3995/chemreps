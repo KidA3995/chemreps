{
 "cells": [
  {
   "cell_type": "markdown",
   "metadata": {},
   "source": [
    "# Tutorial: Bag of Bonds \n",
    "To learn more about the Bag of Bonds representation, please read the literature reference below:\n",
    "- DOI: 10.1021/acs.jpclett.5b00831\n",
    "\n",
    "\n",
    "The first thing you need to do to make your Bag of Bonds representation using chemreps is import the `BagMaker` from `chemreps.bagger` as well as `chemreps.bag_of_bonds` as seen below."
   ]
  },
  {
   "cell_type": "code",
   "execution_count": 1,
   "metadata": {},
   "outputs": [],
   "source": [
    "from chemreps.bagger import BagMaker\n",
    "from chemreps.bag_of_bonds import bag_of_bonds"
   ]
  },
  {
   "cell_type": "markdown",
   "metadata": {},
   "source": [
    "The first thing we need to do when using Bag of Bonds is to make the bags for our dataset. The dataset that we will be using can be found in the data directory of this repository. If you cloned this repository locally you should be able to set the path as '../data/sdf/'. Once we have the path to our dataset we need to pass it to the `BagMaker` along with the type of representation we want. In this case we want to make the Bag of Bonds representation so we will pass `BagMaker` the string 'BoB'. \n",
    "\n",
    "Note: For larger datasets this may take a little time to run as it needs to iterate through the entire dataset and find the proper bag sizes for the entirety of the dataset."
   ]
  },
  {
   "cell_type": "code",
   "execution_count": 2,
   "metadata": {},
   "outputs": [],
   "source": [
    "dataset = '../data/sdf/'\n",
    "bagger = BagMaker('BoB', dataset)"
   ]
  },
  {
   "cell_type": "markdown",
   "metadata": {},
   "source": [
    "Now that we have made our bags and stored them in the object called `bagger`, we can get our empty bags by calling `bagger.bags` as well as the size of our bags with `bagger.bag_sizes`."
   ]
  },
  {
   "cell_type": "code",
   "execution_count": 3,
   "metadata": {},
   "outputs": [
    {
     "data": {
      "text/plain": [
       "{'C': [],\n",
       " 'CC': [],\n",
       " 'CH': [],\n",
       " 'H': [],\n",
       " 'HH': [],\n",
       " 'O': [],\n",
       " 'OC': [],\n",
       " 'OH': [],\n",
       " 'OO': []}"
      ]
     },
     "execution_count": 3,
     "metadata": {},
     "output_type": "execute_result"
    }
   ],
   "source": [
    "bagger.bags"
   ]
  },
  {
   "cell_type": "code",
   "execution_count": 4,
   "metadata": {},
   "outputs": [
    {
     "data": {
      "text/plain": [
       "OrderedDict([('C', 7),\n",
       "             ('CC', 21),\n",
       "             ('CH', 42),\n",
       "             ('H', 10),\n",
       "             ('HH', 45),\n",
       "             ('O', 2),\n",
       "             ('OC', 14),\n",
       "             ('OH', 12),\n",
       "             ('OO', 1)])"
      ]
     },
     "execution_count": 4,
     "metadata": {},
     "output_type": "execute_result"
    }
   ],
   "source": [
    "bagger.bag_sizes"
   ]
  },
  {
   "cell_type": "markdown",
   "metadata": {},
   "source": [
    "Once we have the bags and bag sizes for the dataset, we can start making our representations. To make a Bag of Bonds representation using `chemreps` all we need to do is pass `bag_of_bonds` the molecule file, the `bagger.bags`, and the `bagger.bag_sizes`. "
   ]
  },
  {
   "cell_type": "code",
   "execution_count": 5,
   "metadata": {},
   "outputs": [
    {
     "name": "stdout",
     "output_type": "stream",
     "text": [
      "../data/sdf/butane.sdf\n"
     ]
    },
    {
     "data": {
      "text/plain": [
       "array([36.84  , 36.84  , 36.84  , 36.84  ,  0.    ,  0.    ,  0.    ,\n",
       "        0.    , 23.38  , 23.38  , 23.33  , 14.15  , 14.15  ,  9.195 ,\n",
       "        0.    ,  0.    ,  0.    ,  0.    ,  0.    ,  0.    ,  0.    ,\n",
       "        0.    ,  0.    ,  0.    ,  0.    ,  0.    ,  0.    ,  0.    ,\n",
       "        0.    ,  0.    ,  5.492 ,  5.492 ,  5.492 ,  5.492 ,  5.492 ,\n",
       "        5.492 ,  5.492 ,  5.492 ,  5.492 ,  5.492 ,  2.775 ,  2.775 ,\n",
       "        2.775 ,  2.775 ,  2.762 ,  2.762 ,  2.762 ,  2.762 ,  2.76  ,\n",
       "        2.76  ,  2.752 ,  2.752 ,  2.752 ,  2.752 ,  2.162 ,  2.162 ,\n",
       "        2.162 ,  2.162 ,  2.145 ,  2.145 ,  2.145 ,  2.145 ,  1.717 ,\n",
       "        1.717 ,  1.42  ,  1.42  ,  1.42  ,  1.42  ,  1.272 ,  1.272 ,\n",
       "        0.    ,  0.    ,  0.    ,  0.5   ,  0.5   ,  0.5   ,  0.5   ,\n",
       "        0.5   ,  0.5   ,  0.5   ,  0.5   ,  0.5   ,  0.5   ,  0.    ,\n",
       "        0.567 ,  0.567 ,  0.565 ,  0.565 ,  0.565 ,  0.565 ,  0.5635,\n",
       "        0.5635,  0.4016,  0.4016,  0.4016,  0.4016,  0.3982,  0.3982,\n",
       "        0.3982,  0.3982,  0.3975,  0.3975,  0.387 ,  0.387 ,  0.387 ,\n",
       "        0.387 ,  0.3254,  0.3254,  0.3254,  0.3254,  0.3254,  0.3254,\n",
       "        0.3193,  0.3193,  0.3193,  0.3193,  0.265 ,  0.265 ,  0.265 ,\n",
       "        0.2646,  0.2256,  0.2256,  0.2095,  0.2095,  0.2041,  0.2041,\n",
       "        0.2041,  0.2041,  0.1781,  0.    ,  0.    ,  0.    ,  0.    ,\n",
       "        0.    ,  0.    ,  0.    ,  0.    ,  0.    ,  0.    ,  0.    ,\n",
       "        0.    ,  0.    ,  0.    ,  0.    ,  0.    ,  0.    ,  0.    ,\n",
       "        0.    ,  0.    ,  0.    ,  0.    ,  0.    ,  0.    ,  0.    ,\n",
       "        0.    ,  0.    ,  0.    ,  0.    ,  0.    ,  0.    ,  0.    ,\n",
       "        0.    ,  0.    ], dtype=float16)"
      ]
     },
     "execution_count": 5,
     "metadata": {},
     "output_type": "execute_result"
    }
   ],
   "source": [
    "mfiles = dataset + 'butane.sdf'\n",
    "print(mfiles)\n",
    "rep = bag_of_bonds(mfiles, bagger.bags, bagger.bag_sizes)\n",
    "rep"
   ]
  },
  {
   "cell_type": "markdown",
   "metadata": {},
   "source": [
    "### Make representations for multiple molecules\n",
    "Disclaimer: There may be better ways to accomplish the same objective. You are welcome to use your method as well as submit a issue/PR if you think we should use that method\n",
    "\n",
    "To make representations for all the molecules in our directory we are going to need to use `glob` and `pandas`. To find out more about these libraries you can go to the [glob documentation](https://docs.python.org/3/library/glob.html) or [10 Minutes to pandas](https://pandas.pydata.org/pandas-docs/stable/getting_started/10min.html). We are going to first create an empty list called `rep_list` in which we will store information such as the filename and the representation. Next we loop over all of the files in the directory using glob to match our pattern (eg. we want all sdf files from our data/sdf/ directory). In this loop we use the same method as above in order to make our representations. We store the name of the file and the representation in a dictionary that is then appended to our rep_list. Once the loop is complete, we store the information in a pandas dataframe.\n"
   ]
  },
  {
   "cell_type": "code",
   "execution_count": 6,
   "metadata": {
    "scrolled": true
   },
   "outputs": [
    {
     "name": "stdout",
     "output_type": "stream",
     "text": [
      "../data/sdf/benzoic_acid.sdf\n",
      "../data/sdf/butane.sdf\n",
      "../data/sdf/water.sdf\n"
     ]
    },
    {
     "data": {
      "text/html": [
       "<div>\n",
       "<style scoped>\n",
       "    .dataframe tbody tr th:only-of-type {\n",
       "        vertical-align: middle;\n",
       "    }\n",
       "\n",
       "    .dataframe tbody tr th {\n",
       "        vertical-align: top;\n",
       "    }\n",
       "\n",
       "    .dataframe thead th {\n",
       "        text-align: right;\n",
       "    }\n",
       "</style>\n",
       "<table border=\"1\" class=\"dataframe\">\n",
       "  <thead>\n",
       "    <tr style=\"text-align: right;\">\n",
       "      <th></th>\n",
       "      <th>Name</th>\n",
       "      <th>Rep</th>\n",
       "    </tr>\n",
       "  </thead>\n",
       "  <tbody>\n",
       "    <tr>\n",
       "      <th>0</th>\n",
       "      <td>../data/sdf/benzoic_acid.sdf</td>\n",
       "      <td>[36.84, 36.84, 36.84, 36.84, 36.84, 36.84, 36....</td>\n",
       "    </tr>\n",
       "    <tr>\n",
       "      <th>1</th>\n",
       "      <td>../data/sdf/butane.sdf</td>\n",
       "      <td>[36.84, 36.84, 36.84, 36.84, 0.0, 0.0, 0.0, 0....</td>\n",
       "    </tr>\n",
       "    <tr>\n",
       "      <th>2</th>\n",
       "      <td>../data/sdf/water.sdf</td>\n",
       "      <td>[0.0, 0.0, 0.0, 0.0, 0.0, 0.0, 0.0, 0.0, 0.0, ...</td>\n",
       "    </tr>\n",
       "  </tbody>\n",
       "</table>\n",
       "</div>"
      ],
      "text/plain": [
       "                           Name  \\\n",
       "0  ../data/sdf/benzoic_acid.sdf   \n",
       "1        ../data/sdf/butane.sdf   \n",
       "2         ../data/sdf/water.sdf   \n",
       "\n",
       "                                                 Rep  \n",
       "0  [36.84, 36.84, 36.84, 36.84, 36.84, 36.84, 36....  \n",
       "1  [36.84, 36.84, 36.84, 36.84, 0.0, 0.0, 0.0, 0....  \n",
       "2  [0.0, 0.0, 0.0, 0.0, 0.0, 0.0, 0.0, 0.0, 0.0, ...  "
      ]
     },
     "execution_count": 6,
     "metadata": {},
     "output_type": "execute_result"
    }
   ],
   "source": [
    "import glob\n",
    "import pandas as pd\n",
    "\n",
    "rep_list = []\n",
    "for i in sorted(glob.iglob(dataset + '/*.sdf')):\n",
    "    fname = i\n",
    "    print(fname)\n",
    "    rep = bag_of_bonds(fname, bagger.bags, bagger.bag_sizes)\n",
    "    dict1 = {}\n",
    "    dict1.update({'Name': fname})\n",
    "    dict1.update({'Rep': rep})\n",
    "    rep_list.append(dict1)\n",
    "\n",
    "df = pd.DataFrame(rep_list, columns=['Name', 'Rep'])\n",
    "df"
   ]
  },
  {
   "cell_type": "markdown",
   "metadata": {},
   "source": [
    "Once our representation information is stored in the pandas dataframe, we can use numpy in order to make an array of our representations that we can finally pass to our machine learning method."
   ]
  },
  {
   "cell_type": "code",
   "execution_count": 7,
   "metadata": {},
   "outputs": [
    {
     "data": {
      "text/plain": [
       "array([array([36.84  , 36.84  , 36.84  , 36.84  , 36.84  , 36.84  , 36.84  ,\n",
       "        0.    , 25.81  , 25.81  , 25.81  , 25.81  , 25.81  , 25.81  ,\n",
       "       24.75  , 14.9   , 14.9   , 14.9   , 14.9   , 14.9   , 14.9   ,\n",
       "       14.59  , 14.586 , 12.91  , 12.91  , 12.91  ,  9.61  ,  9.6   ,\n",
       "        8.48  ,  0.    ,  5.523 ,  5.523 ,  5.523 ,  5.523 ,  5.52  ,\n",
       "        3.074 ,  2.82  ,  2.8   ,  2.785 ,  2.785 ,  2.785 ,  2.785 ,\n",
       "        2.785 ,  2.785 ,  2.77  ,  2.752 ,  2.219 ,  2.203 ,  1.87  ,\n",
       "        1.773 ,  1.769 ,  1.765 ,  1.765 ,  1.765 ,  1.765 ,  1.765 ,\n",
       "        1.765 ,  1.761 ,  1.757 ,  1.643 ,  1.549 ,  1.549 ,  1.549 ,\n",
       "        1.549 ,  1.548 ,  1.363 ,  1.299 ,  1.299 ,  1.188 ,  1.125 ,\n",
       "        1.069 ,  1.0205,  0.    ,  0.5   ,  0.5   ,  0.5   ,  0.5   ,\n",
       "        0.5   ,  0.5   ,  0.    ,  0.    ,  0.    ,  0.    ,  0.    ,\n",
       "        0.4097,  0.406 ,  0.403 ,  0.403 ,  0.3047,  0.234 ,  0.2334,\n",
       "        0.2328,  0.2308,  0.2162,  0.2015,  0.2015,  0.1765,  0.1528,\n",
       "        0.144 ,  0.    ,  0.    ,  0.    ,  0.    ,  0.    ,  0.    ,\n",
       "        0.    ,  0.    ,  0.    ,  0.    ,  0.    ,  0.    ,  0.    ,\n",
       "        0.    ,  0.    ,  0.    ,  0.    ,  0.    ,  0.    ,  0.    ,\n",
       "        0.    ,  0.    ,  0.    ,  0.    ,  0.    ,  0.    ,  0.    ,\n",
       "        0.    ,  0.    ,  0.    ,  0.    , 73.5   , 73.5   ,  0.    ,\n",
       "       38.84  , 35.25  , 20.5   , 20.06  , 17.97  , 16.7   , 13.25  ,\n",
       "       13.195 , 11.805 , 11.24  , 10.086 ,  9.99  ,  9.74  ,  9.484 ,\n",
       "        0.    ,  8.16  ,  3.402 ,  3.352 ,  3.06  ,  2.02  ,  1.98  ,\n",
       "        1.704 ,  1.619 ,  1.396 ,  1.392 ,  1.337 ,  1.306 ,  0.    ,\n",
       "       28.16  ,  0.    ], dtype=float16),\n",
       "       array([36.84  , 36.84  , 36.84  , 36.84  ,  0.    ,  0.    ,  0.    ,\n",
       "        0.    , 23.38  , 23.38  , 23.33  , 14.15  , 14.15  ,  9.195 ,\n",
       "        0.    ,  0.    ,  0.    ,  0.    ,  0.    ,  0.    ,  0.    ,\n",
       "        0.    ,  0.    ,  0.    ,  0.    ,  0.    ,  0.    ,  0.    ,\n",
       "        0.    ,  0.    ,  5.492 ,  5.492 ,  5.492 ,  5.492 ,  5.492 ,\n",
       "        5.492 ,  5.492 ,  5.492 ,  5.492 ,  5.492 ,  2.775 ,  2.775 ,\n",
       "        2.775 ,  2.775 ,  2.762 ,  2.762 ,  2.762 ,  2.762 ,  2.76  ,\n",
       "        2.76  ,  2.752 ,  2.752 ,  2.752 ,  2.752 ,  2.162 ,  2.162 ,\n",
       "        2.162 ,  2.162 ,  2.145 ,  2.145 ,  2.145 ,  2.145 ,  1.717 ,\n",
       "        1.717 ,  1.42  ,  1.42  ,  1.42  ,  1.42  ,  1.272 ,  1.272 ,\n",
       "        0.    ,  0.    ,  0.    ,  0.5   ,  0.5   ,  0.5   ,  0.5   ,\n",
       "        0.5   ,  0.5   ,  0.5   ,  0.5   ,  0.5   ,  0.5   ,  0.    ,\n",
       "        0.567 ,  0.567 ,  0.565 ,  0.565 ,  0.565 ,  0.565 ,  0.5635,\n",
       "        0.5635,  0.4016,  0.4016,  0.4016,  0.4016,  0.3982,  0.3982,\n",
       "        0.3982,  0.3982,  0.3975,  0.3975,  0.387 ,  0.387 ,  0.387 ,\n",
       "        0.387 ,  0.3254,  0.3254,  0.3254,  0.3254,  0.3254,  0.3254,\n",
       "        0.3193,  0.3193,  0.3193,  0.3193,  0.265 ,  0.265 ,  0.265 ,\n",
       "        0.2646,  0.2256,  0.2256,  0.2095,  0.2095,  0.2041,  0.2041,\n",
       "        0.2041,  0.2041,  0.1781,  0.    ,  0.    ,  0.    ,  0.    ,\n",
       "        0.    ,  0.    ,  0.    ,  0.    ,  0.    ,  0.    ,  0.    ,\n",
       "        0.    ,  0.    ,  0.    ,  0.    ,  0.    ,  0.    ,  0.    ,\n",
       "        0.    ,  0.    ,  0.    ,  0.    ,  0.    ,  0.    ,  0.    ,\n",
       "        0.    ,  0.    ,  0.    ,  0.    ,  0.    ,  0.    ,  0.    ,\n",
       "        0.    ,  0.    ], dtype=float16),\n",
       "       array([ 0.   ,  0.   ,  0.   ,  0.   ,  0.   ,  0.   ,  0.   ,  0.   ,\n",
       "        0.   ,  0.   ,  0.   ,  0.   ,  0.   ,  0.   ,  0.   ,  0.   ,\n",
       "        0.   ,  0.   ,  0.   ,  0.   ,  0.   ,  0.   ,  0.   ,  0.   ,\n",
       "        0.   ,  0.   ,  0.   ,  0.   ,  0.   ,  0.   ,  0.   ,  0.   ,\n",
       "        0.   ,  0.   ,  0.   ,  0.   ,  0.   ,  0.   ,  0.   ,  0.   ,\n",
       "        0.   ,  0.   ,  0.   ,  0.   ,  0.   ,  0.   ,  0.   ,  0.   ,\n",
       "        0.   ,  0.   ,  0.   ,  0.   ,  0.   ,  0.   ,  0.   ,  0.   ,\n",
       "        0.   ,  0.   ,  0.   ,  0.   ,  0.   ,  0.   ,  0.   ,  0.   ,\n",
       "        0.   ,  0.   ,  0.   ,  0.   ,  0.   ,  0.   ,  0.   ,  0.   ,\n",
       "        0.   ,  0.5  ,  0.5  ,  0.   ,  0.   ,  0.   ,  0.   ,  0.   ,\n",
       "        0.   ,  0.   ,  0.   ,  0.   ,  0.655,  0.   ,  0.   ,  0.   ,\n",
       "        0.   ,  0.   ,  0.   ,  0.   ,  0.   ,  0.   ,  0.   ,  0.   ,\n",
       "        0.   ,  0.   ,  0.   ,  0.   ,  0.   ,  0.   ,  0.   ,  0.   ,\n",
       "        0.   ,  0.   ,  0.   ,  0.   ,  0.   ,  0.   ,  0.   ,  0.   ,\n",
       "        0.   ,  0.   ,  0.   ,  0.   ,  0.   ,  0.   ,  0.   ,  0.   ,\n",
       "        0.   ,  0.   ,  0.   ,  0.   ,  0.   ,  0.   ,  0.   ,  0.   ,\n",
       "        0.   ,  0.   , 73.5  ,  0.   ,  0.   ,  0.   ,  0.   ,  0.   ,\n",
       "        0.   ,  0.   ,  0.   ,  0.   ,  0.   ,  0.   ,  0.   ,  0.   ,\n",
       "        0.   ,  0.   ,  0.   ,  0.   ,  8.26 ,  8.26 ,  0.   ,  0.   ,\n",
       "        0.   ,  0.   ,  0.   ,  0.   ,  0.   ,  0.   ,  0.   ,  0.   ,\n",
       "        0.   ,  0.   ,  0.   ], dtype=float16)], dtype=object)"
      ]
     },
     "execution_count": 7,
     "metadata": {},
     "output_type": "execute_result"
    }
   ],
   "source": [
    "import numpy as np\n",
    "reps = np.asarray(df['Rep'])\n",
    "reps"
   ]
  }
 ],
 "metadata": {
  "kernelspec": {
   "display_name": "Python 3",
   "language": "python",
   "name": "python3"
  },
  "language_info": {
   "codemirror_mode": {
    "name": "ipython",
    "version": 3
   },
   "file_extension": ".py",
   "mimetype": "text/x-python",
   "name": "python",
   "nbconvert_exporter": "python",
   "pygments_lexer": "ipython3",
   "version": "3.6.8"
  },
  "varInspector": {
   "cols": {
    "lenName": 16,
    "lenType": 16,
    "lenVar": 40
   },
   "kernels_config": {
    "python": {
     "delete_cmd_postfix": "",
     "delete_cmd_prefix": "del ",
     "library": "var_list.py",
     "varRefreshCmd": "print(var_dic_list())"
    },
    "r": {
     "delete_cmd_postfix": ") ",
     "delete_cmd_prefix": "rm(",
     "library": "var_list.r",
     "varRefreshCmd": "cat(var_dic_list()) "
    }
   },
   "types_to_exclude": [
    "module",
    "function",
    "builtin_function_or_method",
    "instance",
    "_Feature"
   ],
   "window_display": false
  }
 },
 "nbformat": 4,
 "nbformat_minor": 2
}
