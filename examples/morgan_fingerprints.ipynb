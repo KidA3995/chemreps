{
 "cells": [
  {
   "cell_type": "markdown",
   "metadata": {},
   "source": [
    "# Tutorial: Morgan Fingerprints\n",
    "Morgan fingerprints are commonly used in cheminformatics to represent the topology of the molecule in a hashed fixed length vector. More information on the construction of Morgan fingerprints and how to use them with RDKit can be found below:\n",
    "\n",
    "   - DOI: 10.1021/ci100050t    \n",
    "   - [RDKit Morgan Fingerprints](http://rdkit.org/docs/GettingStartedInPython.html#morgan-fingerprints-circular-fingerprints \"RDKit Morgan Fingerprints\")\n",
    "\n",
    "We begin by importing the Morgan Fingerpint bit vector constructor from `chemreps.fingerprints`"
   ]
  },
  {
   "cell_type": "code",
   "execution_count": null,
   "metadata": {},
   "outputs": [],
   "source": [
    "from chemreps.fingerprints import morganfp  # RDKit dependency\n",
    "import pandas as pd\n",
    "import numpy as np\n",
    "import glob\n",
    "import sys\n",
    "\n",
    "np.set_printoptions(threshold=sys.maxsize)"
   ]
  },
  {
   "cell_type": "markdown",
   "metadata": {},
   "source": [
    "As an example, we will build a Morgan fingerprint bit vector for butane. The data set that we will be using can be found in the data directory of this repository. If you cloned this repository locally, then you should be able to set the path as '../data/sdf/'.\n",
    "\n",
    "To create the bit vector, the sdf or mol file containing coordinates and connectivity is passed to the `morganfp` function. Additionally, the size of the radius which controls the size of the atom environment (radius of 2 bonds = diameter of 4 bonds) and the number of bits (the size of the hash) in the vector can be changed by manipulating `radius` and `nbits`.\n",
    "\n",
    "If we want to recreate the common ECFP4 (diameter of 4 bonds) representation below we need a radius of 2 and 1024 bits."
   ]
  },
  {
   "cell_type": "code",
   "execution_count": null,
   "metadata": {},
   "outputs": [],
   "source": [
    "mfile = '../data/sdf/butane.sdf'\n",
    "fp = morganfp(mfile, radius=2, nBits=1024)"
   ]
  },
  {
   "cell_type": "markdown",
   "metadata": {},
   "source": [
    "The bit vector we have now created is stored in the variable `fp`."
   ]
  },
  {
   "cell_type": "code",
   "execution_count": null,
   "metadata": {},
   "outputs": [],
   "source": [
    "print(fp)"
   ]
  },
  {
   "cell_type": "markdown",
   "metadata": {},
   "source": [
    "## Make representations for multiple molecules\n",
    "Disclaimer: There may be better ways to accomplish the same objective. You are welcome to use your method as well as submit a issue/PR if you think we should use that method\n",
    "\n",
    "To make representations for all the molecules in our directory we are going to need to use `glob` and `pandas`. To find out more about these libraries you can go to the [glob documentation](https://docs.python.org/3/library/glob.html) or [10 Minutes to pandas](https://pandas.pydata.org/pandas-docs/stable/getting_started/10min.html). We are going to first create an empty list called `rep_list` in which we will store information such as the filename and the representation. Next we loop over all of the files in the directory using glob to match our pattern (eg. we want all sdf files from our data/sdf/ directory). In this loop we use the same method as above in order to make our representations. We store the name of the file and the representation in a dictionary that is then appended to our rep_list. Once the loop is complete, we store the information in a pandas dataframe.\n"
   ]
  },
  {
   "cell_type": "code",
   "execution_count": null,
   "metadata": {},
   "outputs": [],
   "source": [
    "dataset = '../data/sdf/'\n",
    "\n",
    "rep_list = []\n",
    "for i in sorted(glob.iglob(dataset + '/*')):\n",
    "    fname = i\n",
    "    print(fname)\n",
    "    rep = morganfp(mfile, radius=2, nBits=1024)\n",
    "    dict1 = {}\n",
    "    dict1.update({'Name': fname})\n",
    "    dict1.update({'Rep': rep})\n",
    "    rep_list.append(dict1)\n",
    "\n",
    "df = pd.DataFrame(rep_list, columns=['Name', 'Rep'])\n",
    "df"
   ]
  },
  {
   "cell_type": "markdown",
   "metadata": {},
   "source": [
    "Once our representation information is stored in the pandas dataframe, we can use numpy in order to make an array of our representations that we can finally pass to our machine learning method."
   ]
  },
  {
   "cell_type": "code",
   "execution_count": null,
   "metadata": {
    "scrolled": false
   },
   "outputs": [],
   "source": [
    "reps = np.asarray(df['Rep'])\n",
    "reps"
   ]
  }
 ],
 "metadata": {
  "kernelspec": {
   "display_name": "Python 3",
   "language": "python",
   "name": "python3"
  },
  "language_info": {
   "codemirror_mode": {
    "name": "ipython",
    "version": 3
   },
   "file_extension": ".py",
   "mimetype": "text/x-python",
   "name": "python",
   "nbconvert_exporter": "python",
   "pygments_lexer": "ipython3",
   "version": "3.6.8"
  },
  "varInspector": {
   "cols": {
    "lenName": 16,
    "lenType": 16,
    "lenVar": 40
   },
   "kernels_config": {
    "python": {
     "delete_cmd_postfix": "",
     "delete_cmd_prefix": "del ",
     "library": "var_list.py",
     "varRefreshCmd": "print(var_dic_list())"
    },
    "r": {
     "delete_cmd_postfix": ") ",
     "delete_cmd_prefix": "rm(",
     "library": "var_list.r",
     "varRefreshCmd": "cat(var_dic_list()) "
    }
   },
   "types_to_exclude": [
    "module",
    "function",
    "builtin_function_or_method",
    "instance",
    "_Feature"
   ],
   "window_display": false
  }
 },
 "nbformat": 4,
 "nbformat_minor": 2
}
