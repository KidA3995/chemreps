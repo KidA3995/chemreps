{
 "cells": [
  {
   "cell_type": "markdown",
   "metadata": {},
   "source": [
    "# Tutorial: Coulomb Matrix"
   ]
  },
  {
   "cell_type": "markdown",
   "metadata": {},
   "source": [
    "The Coulomb Matrix representation was designed for the modeling of atomization energies and as a result requires information needed by the Hamiltonian, namely the set of Cartesian coordinates $\\left\\{ \\mathbf { R } _ { I } \\right\\}$ and nuclear charges $\\left\\{ Z _ { I } \\right\\}$. With this information the Coulomb matrix $\\mathbf{M}$ is built\n",
    "\n",
    "$$M _ { I J } = \\left\\{ \\begin{array} { l l } { 0.5 Z _ { I } ^ { 2.4 } } & { \\text { for } I = J } \\\\ { \\frac { Z _ { I } Z _ { J } } { \\left| \\mathbf { R } _ { I } - \\mathbf { R } _ { J } \\right| } } & { \\text { for } I \\neq J } \\end{array} \\right. $$\n",
    "\n",
    "where the off-diagonal elements correspond to the Coulomb repulsion between $I$ and $J$. The expression for the diagonal elements is the result of an encoded polynomial fit to the atomic energies and nuclear charge. \n",
    "\n",
    "    - DOI: 10.1103/PhysRevLett.108.058301\n",
    "    \n",
    "We begin by importing the Coulomb matrix constructor from `chemreps.coulomb_matrix` "
   ]
  },
  {
   "cell_type": "code",
   "execution_count": null,
   "metadata": {},
   "outputs": [],
   "source": [
    "from chemreps.coulomb_matrix import coulomb_matrix\n",
    "import pandas as pd\n",
    "import numpy as np\n",
    "import glob"
   ]
  },
  {
   "cell_type": "markdown",
   "metadata": {},
   "source": [
    "As an example, we will build the Coulomb matrix for butane. The data set that we will be using can be found in the data directory of this repository. If you cloned this repository locally, then you should be able to set the path as '../data/sdf/'.\n",
    "\n",
    "The matrix is built by calling the imported `coulomb_matrix` function. The first argument is the coordinate file of the molecule of interest. The second argument is the size of the matrix, which should be the number of atoms in the molecule. An error is raised if the size given is not large enough.\n",
    "\n"
   ]
  },
  {
   "cell_type": "code",
   "execution_count": null,
   "metadata": {},
   "outputs": [],
   "source": [
    "mfile = '../data/sdf/butane.sdf'\n",
    "cm = coulomb_matrix(mfile, size=14)"
   ]
  },
  {
   "cell_type": "markdown",
   "metadata": {},
   "source": [
    "The matrix we have now created is stored in the variable cm."
   ]
  },
  {
   "cell_type": "code",
   "execution_count": null,
   "metadata": {},
   "outputs": [],
   "source": [
    "print(cm)"
   ]
  },
  {
   "cell_type": "markdown",
   "metadata": {},
   "source": [
    "**Note:** As you run on a set of molecules to build your training set, the Coulomb matrices must be of the same size. To accomplish this matrices of smaller molecules are padded with zeros until they are the size of the largest molecule's Coulomb matrix. We will see this in the example below."
   ]
  },
  {
   "cell_type": "markdown",
   "metadata": {},
   "source": [
    "### Making Representations for Multiple Molecules"
   ]
  },
  {
   "cell_type": "markdown",
   "metadata": {},
   "source": [
    "Disclaimer: There may be better ways to accomplish the same objective. You are welcome to use your method as well as submit a issue/PR if you think we should use that method.\n",
    "\n",
    "To make representations for all the molecules in our directory we are going to need to use glob and pandas. To find out more about these libraries you can go to the [glob documentation](https://docs.python.org/3/library/glob.html) or [10 Minutes to pandas](https://pandas.pydata.org/pandas-docs/stable/getting_started/10min.html). We are going to first create an empty list called rep_list in which we will store information such as the filename and the representation. Next we loop over all of the files in the directory using glob to match our pattern (eg. we want all sdf files from our data/sdf/ directory). In this loop we use the same method as above in order to make our representations. We store the name of the file and the representation in a dictionary that is then appended to our rep_list. Once the loop is complete, we store the information in a pandas dataframe."
   ]
  },
  {
   "cell_type": "markdown",
   "metadata": {},
   "source": [
    "As you can see below, the variable `size_largest_mol` represents the size of the largest molecule in the set. For our example data, the largest molecule is penicillin with 42 molecules."
   ]
  },
  {
   "cell_type": "code",
   "execution_count": null,
   "metadata": {},
   "outputs": [],
   "source": [
    "dataset = '../data/sdf/'\n",
    "\n",
    "row_list = []\n",
    "size_of_largest = 42\n",
    "for i in sorted(glob.iglob(dataset + '/*')):\n",
    "    fname = i\n",
    "    print(fname)\n",
    "    rep = coulomb_matrix(fname, size=size_of_largest)\n",
    "    dict1 = {}\n",
    "    dict1.update({'Name': fname})\n",
    "    dict1.update({'Rep': rep})\n",
    "    row_list.append(dict1)\n",
    "\n",
    "df = pd.DataFrame(row_list, columns=['Name', 'Rep'])\n",
    "df"
   ]
  },
  {
   "cell_type": "markdown",
   "metadata": {},
   "source": [
    "Once our representation information is stored in the pandas dataframe, we can use numpy in order to make an array of our representations that we can finally pass to our machine learning method."
   ]
  },
  {
   "cell_type": "code",
   "execution_count": null,
   "metadata": {},
   "outputs": [],
   "source": [
    "reps = np.asarray(df['Rep'])\n",
    "reps"
   ]
  },
  {
   "cell_type": "code",
   "execution_count": null,
   "metadata": {},
   "outputs": [],
   "source": []
  }
 ],
 "metadata": {
  "kernelspec": {
   "display_name": "Python 3",
   "language": "python",
   "name": "python3"
  },
  "language_info": {
   "codemirror_mode": {
    "name": "ipython",
    "version": 3
   },
   "file_extension": ".py",
   "mimetype": "text/x-python",
   "name": "python",
   "nbconvert_exporter": "python",
   "pygments_lexer": "ipython3",
   "version": "3.7.3"
  },
  "varInspector": {
   "cols": {
    "lenName": 16,
    "lenType": 16,
    "lenVar": 40
   },
   "kernels_config": {
    "python": {
     "delete_cmd_postfix": "",
     "delete_cmd_prefix": "del ",
     "library": "var_list.py",
     "varRefreshCmd": "print(var_dic_list())"
    },
    "r": {
     "delete_cmd_postfix": ") ",
     "delete_cmd_prefix": "rm(",
     "library": "var_list.r",
     "varRefreshCmd": "cat(var_dic_list()) "
    }
   },
   "types_to_exclude": [
    "module",
    "function",
    "builtin_function_or_method",
    "instance",
    "_Feature"
   ],
   "window_display": false
  }
 },
 "nbformat": 4,
 "nbformat_minor": 2
}
