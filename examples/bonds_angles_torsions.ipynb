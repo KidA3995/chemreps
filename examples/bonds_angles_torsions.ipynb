{
 "cells": [
  {
   "cell_type": "markdown",
   "metadata": {},
   "source": [
    "# Tutorial: Bonds Angles Torsions\n",
    "To learn more about the Bonds Angles Torsions representation, please read the literature reference below:\n",
    "- DOI: 10.1063/1.4964627\n",
    "\n",
    "Disclaimers:\n",
    "- This only works for mdl/sdf type files\n",
    "- This is an attempt at the recreation from literature and may not be implemented as exactly as it is in the literature source\n",
    "\n",
    "\n",
    "The first thing you need to do to make your Bonds Angles Torsions representation using chemreps is import the BagMaker from `chemreps.bagger` and the bat representation from `chemreps.bat` as seen below."
   ]
  },
  {
   "cell_type": "code",
   "execution_count": null,
   "metadata": {},
   "outputs": [],
   "source": [
    "from chemreps.bagger import BagMaker\n",
    "from chemreps.bat import bat"
   ]
  },
  {
   "cell_type": "markdown",
   "metadata": {},
   "source": [
    "The first thing we need to do when using Bonds Angles Torsions is to make the bags for our dataset. The dataset that we will be using can be found in the data directory of this repository. If you cloned this repository locally you should be able to set the path as '../data/sdf/'. Once we have the path to our dataset we need to pass it to the `BagMaker` along with the type of representation we want. In this case we want to make the Bonds Angles Torsions representation so we will pass `BagMaker` the string 'BAT'. \n",
    "\n",
    "Note: For larger datasets this may take a little time to run as it needs to iterate through the entire dataset and find the proper bag sizes for the entirety of the dataset."
   ]
  },
  {
   "cell_type": "code",
   "execution_count": null,
   "metadata": {},
   "outputs": [],
   "source": [
    "dataset = '../data/sdf/'\n",
    "bagger = BagMaker('BAT', dataset)"
   ]
  },
  {
   "cell_type": "markdown",
   "metadata": {},
   "source": [
    "Now that we have made our bags and stored them in the object called `bagger`, we can get our empty bags by calling `bagger.bags` as well as the size of our bags with `bagger.bag_sizes`."
   ]
  },
  {
   "cell_type": "code",
   "execution_count": null,
   "metadata": {},
   "outputs": [],
   "source": [
    "bagger.bags"
   ]
  },
  {
   "cell_type": "code",
   "execution_count": null,
   "metadata": {},
   "outputs": [],
   "source": [
    "bagger.bag_sizes"
   ]
  },
  {
   "cell_type": "markdown",
   "metadata": {},
   "source": [
    "Once we have the bags and bag sizes for the dataset, we can start making our representations. To make a Bonds Angles Torsions representation using `chemreps` all we need to do is pass `bat` the molecule file, the `bagger.bags`, and the `bagger.bag_sizes`. "
   ]
  },
  {
   "cell_type": "code",
   "execution_count": null,
   "metadata": {},
   "outputs": [],
   "source": [
    "mfiles = dataset + 'butane.sdf'\n",
    "print(mfiles)\n",
    "rep = bat(mfiles, bagger.bags, bagger.bag_sizes)\n",
    "rep"
   ]
  },
  {
   "cell_type": "markdown",
   "metadata": {},
   "source": [
    "### Make representations for multiple molecules\n",
    "Disclaimer: There may be better ways to accomplish the same objective. You are welcome to use your method as well as submit a issue/PR if you think we should use that method\n",
    "\n",
    "To make representations for all the molecules in our directory we are going to need to use `glob` and `pandas`. To find out more about these libraries you can go to the [glob documentation](https://docs.python.org/3/library/glob.html) or [10 Minutes to pandas](https://pandas.pydata.org/pandas-docs/stable/getting_started/10min.html). We are going to first create an empty list called `rep_list` in which we will store information such as the filename and the representation. Next we loop over all of the files in the directory using glob to match our pattern (eg. we want all sdf files from our data/sdf/ directory). In this loop we use the same method as above in order to make our representations. We store the name of the file and the representation in a dictionary that is then appended to our rep_list. Once the loop is complete, we store the information in a pandas dataframe.\n"
   ]
  },
  {
   "cell_type": "code",
   "execution_count": null,
   "metadata": {
    "scrolled": true
   },
   "outputs": [],
   "source": [
    "import glob\n",
    "import pandas as pd\n",
    "\n",
    "rep_list = []\n",
    "for i in sorted(glob.iglob(dataset + '/*.sdf')):\n",
    "    fname = i\n",
    "    print(fname)\n",
    "    rep = bat(fname, bagger.bags, bagger.bag_sizes)\n",
    "    dict1 = {}\n",
    "    dict1.update({'Name': fname})\n",
    "    dict1.update({'Rep': rep})\n",
    "    rep_list.append(dict1)\n",
    "\n",
    "df = pd.DataFrame(rep_list, columns=['Name', 'Rep'])\n",
    "df"
   ]
  },
  {
   "cell_type": "markdown",
   "metadata": {},
   "source": [
    "Once our representation information is stored in the pandas dataframe, we can use numpy in order to make an array of our representations that we can finally pass to our machine learning method."
   ]
  },
  {
   "cell_type": "code",
   "execution_count": null,
   "metadata": {},
   "outputs": [],
   "source": [
    "import numpy as np\n",
    "reps = np.asarray(df['Rep'])\n",
    "reps"
   ]
  }
 ],
 "metadata": {
  "kernelspec": {
   "display_name": "Python 3",
   "language": "python",
   "name": "python3"
  },
  "language_info": {
   "codemirror_mode": {
    "name": "ipython",
    "version": 3
   },
   "file_extension": ".py",
   "mimetype": "text/x-python",
   "name": "python",
   "nbconvert_exporter": "python",
   "pygments_lexer": "ipython3",
   "version": "3.7.1"
  },
  "varInspector": {
   "cols": {
    "lenName": 16,
    "lenType": 16,
    "lenVar": 40
   },
   "kernels_config": {
    "python": {
     "delete_cmd_postfix": "",
     "delete_cmd_prefix": "del ",
     "library": "var_list.py",
     "varRefreshCmd": "print(var_dic_list())"
    },
    "r": {
     "delete_cmd_postfix": ") ",
     "delete_cmd_prefix": "rm(",
     "library": "var_list.r",
     "varRefreshCmd": "cat(var_dic_list()) "
    }
   },
   "types_to_exclude": [
    "module",
    "function",
    "builtin_function_or_method",
    "instance",
    "_Feature"
   ],
   "window_display": false
  }
 },
 "nbformat": 4,
 "nbformat_minor": 2
}
